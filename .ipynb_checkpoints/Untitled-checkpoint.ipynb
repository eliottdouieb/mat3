{
 "cells": [
  {
   "cell_type": "code",
   "execution_count": 15,
   "metadata": {},
   "outputs": [
    {
     "name": "stdout",
     "output_type": "stream",
     "text": [
      "ה\n",
      " \n",
      "\"\n",
      "י\n",
      "ו\n",
      "ם\n",
      " \n",
      "ה\n",
      "ו\n",
      "ל\n",
      "26 16\n",
      "{'messages': [{'datetime': '6.4.2021, 11:40', 'id': 1, 'text': ' <המדיה לא נכללה>', 'created by': ' \\u200f\\u202a+972 50-255-8663\\u202c\\u200f'}, {'datetime': '6.4.2021, 11:58', 'id': 2, 'text': ' ליה תגיע😍', 'created by': ' לימור אמא של ליה'}, {'datetime': '6.4.2021, 12:09', 'id': 3, 'text': ' מזל טוב, אמה תגיע', 'created by': ' אורטל אמא של אמה'}, {'datetime': '6.4.2021, 12:09', 'id': 1, 'text': ' תודה❤️❤️', 'created by': ' \\u200f\\u202a+972 50-255-8663\\u202c\\u200f'}, {'datetime': '6.4.2021, 12:23', 'id': 4, 'text': ' אשמח לפרטים.  לא ראיתי את ההזמנה😊', 'created by': ' יעל קורנפלד'}, {'datetime': '6.4.2021, 12:30', 'id': 5, 'text': ' המון מזל טוב ♥️♥️♥️ לין תגיע בע\"ה\\n', 'created by': ' \\u200f\\u202a+972 52-575-9499\\u202c\\u200f'}, {'datetime': '6.4.2021, 12:30', 'id': 1, 'text': \" יום הולדת בנות ב 28.4 בשעה 17:00- 19:00 רח' הנביאים 30 קומה שלישית דירה 12\", 'created by': ' \\u200f\\u202a+972 50-255-8663\\u202c\\u200f'}, {'datetime': '6.4.2021, 12:30', 'id': 1, 'text': ' 🥰', 'created by': ' \\u200f\\u202a+972 50-255-8663\\u202c\\u200f'}, {'datetime': '6.4.2021, 14:20', 'id': 6, 'text': ' מזל טוב 🎉🎉🎈🎈נטע תגיע', 'created by': ' דיאנה הינדרי אמא של נטע'}, {'datetime': '6.4.2021, 14:25', 'id': 7, 'text': ' מזל טוב עלמה תגיע💓', 'created by': ' נטלי אמא של עלמה'}, {'datetime': '6.4.2021, 14:31', 'id': 1, 'text': ' 👍🏻🥰🥰', 'created by': ' \\u200f\\u202a+972 50-255-8663\\u202c\\u200f'}, {'datetime': '6.4.2021, 14:32', 'id': 8, 'text': ' מזל טוב🎈🎈🎈 רומי תגיע\\n', 'created by': ' שמרית אמא של יובל'}, {'datetime': '6.4.2021, 14:33', 'id': 9, 'text': ' אוריין תגיע בשמחה מזל טוב', 'created by': ' יפית אמא של אוריין'}, {'datetime': '6.4.2021, 14:45', 'id': 1, 'text': ' 👍🏻🥰', 'created by': ' \\u200f\\u202a+972 50-255-8663\\u202c\\u200f'}, {'datetime': '6.4.2021, 14:52', 'id': 4, 'text': ' ארבל תגיע בשמחה 🎈', 'created by': ' יעל קורנפלד'}, {'datetime': '6.4.2021, 15:17', 'id': 10, 'text': ' נטע תגיע בשמחה', 'created by': ' Anat'}, {'datetime': '6.4.2021, 15:26', 'id': 1, 'text': ' 👍🏻🤗', 'created by': ' \\u200f\\u202a+972 50-255-8663\\u202c\\u200f'}, {'datetime': '6.4.2021, 17:14', 'id': 11, 'text': ' מזל טוב🎊🎉 רומי תגיע\\n', 'created by': ' נטלי אמא של רומי בן הרוש'}, {'datetime': '6.4.2021, 17:48', 'id': 12, 'text': ' גאיה תגיע בשמחה🎂', 'created by': ' קרולין שכנה'}, {'datetime': '6.4.2021, 17:59', 'id': 1, 'text': ' תודה🤗', 'created by': ' \\u200f\\u202a+972 50-255-8663\\u202c\\u200f'}, {'datetime': '7.4.2021, 11:56', 'id': 13, 'text': ' מיה בן שואן תגיע 😁', 'created by': ' שירה בן שואן'}, {'datetime': '7.4.2021, 12:24', 'id': 1, 'text': ' 👍🏻🤗', 'created by': ' \\u200f\\u202a+972 50-255-8663\\u202c\\u200f'}], 'metadata': {'chat_name': ' \"יום הולדת בנות לנ', 'creation_date': '6.4.2021, 11:39 ', 'creator': ' \\u200f\\u202a+972 50-255-8663\\u202c\\u200f\\n', 'num_of_participants': 13}}\n"
     ]
    },
    {
     "ename": "OSError",
     "evalue": "[Errno 22] Invalid argument: ' \"יום הולדת בנות לנ.txt'",
     "output_type": "error",
     "traceback": [
      "\u001b[1;31m---------------------------------------------------------------------------\u001b[0m",
      "\u001b[1;31mOSError\u001b[0m                                   Traceback (most recent call last)",
      "\u001b[1;32m<ipython-input-15-7b97bffc8b89>\u001b[0m in \u001b[0;36m<module>\u001b[1;34m\u001b[0m\n\u001b[0;32m     57\u001b[0m \u001b[1;33m\u001b[0m\u001b[0m\n\u001b[0;32m     58\u001b[0m \u001b[1;32mimport\u001b[0m \u001b[0mjson\u001b[0m\u001b[1;33m\u001b[0m\u001b[1;33m\u001b[0m\u001b[0m\n\u001b[1;32m---> 59\u001b[1;33m \u001b[1;32mwith\u001b[0m \u001b[0mopen\u001b[0m\u001b[1;33m(\u001b[0m\u001b[0mfirst_metadata\u001b[0m\u001b[1;33m[\u001b[0m\u001b[1;34m\"chat_name\"\u001b[0m\u001b[1;33m]\u001b[0m\u001b[1;33m+\u001b[0m \u001b[1;34m\".txt\"\u001b[0m\u001b[1;33m,\u001b[0m \u001b[1;34m'w'\u001b[0m\u001b[1;33m,\u001b[0m \u001b[0mencoding\u001b[0m\u001b[1;33m=\u001b[0m\u001b[1;34m'utf-8'\u001b[0m\u001b[1;33m)\u001b[0m \u001b[1;32mas\u001b[0m \u001b[0mChatInJson_Textfile\u001b[0m\u001b[1;33m:\u001b[0m\u001b[1;33m\u001b[0m\u001b[1;33m\u001b[0m\u001b[0m\n\u001b[0m\u001b[0;32m     60\u001b[0m      \u001b[0mjson\u001b[0m\u001b[1;33m.\u001b[0m\u001b[0mdump\u001b[0m\u001b[1;33m(\u001b[0m\u001b[0msecond_metadata\u001b[0m\u001b[1;33m,\u001b[0m \u001b[0mChatInJson_Textfile\u001b[0m\u001b[1;33m,\u001b[0m  \u001b[0mensure_ascii\u001b[0m\u001b[1;33m=\u001b[0m\u001b[1;32mFalse\u001b[0m\u001b[1;33m,\u001b[0m \u001b[0mindent\u001b[0m\u001b[1;33m=\u001b[0m\u001b[1;36m4\u001b[0m\u001b[1;33m)\u001b[0m\u001b[1;33m\u001b[0m\u001b[1;33m\u001b[0m\u001b[0m\n",
      "\u001b[1;31mOSError\u001b[0m: [Errno 22] Invalid argument: ' \"יום הולדת בנות לנ.txt'"
     ]
    }
   ],
   "source": [
    "xfile=open('C:/Users/eliot/Desktop/chat_whatsapp_birthday_noya.txt','r',encoding='utf8')\n",
    "phone_or_name=dict()\n",
    "decription_mess=dict()\n",
    "first_metadata=dict()\n",
    "messages=dict()\n",
    "lst=list()\n",
    "count=1\n",
    "replace=dict()\n",
    "for line in xfile:\n",
    "    a=line.find('נוצרה על ידי')\n",
    "    if a != (-1):\n",
    "        print(line[27])\n",
    "        print(line[28])\n",
    "        print(line[29])\n",
    "        print(line[30])\n",
    "        print(line[31])\n",
    "        print(line[32])\n",
    "        print(line[33])\n",
    "        b=line.find('\"')\n",
    "        c=line.find('-')\n",
    "        print(b,c)\n",
    "        first_metadata['chat_name']=line[25:-40]\n",
    "        first_metadata['creation_date']=line[:c]\n",
    "        first_metadata['creator']=line[a+12:]\n",
    "    d=line.find(':')\n",
    "    if d==(-1):\n",
    "        replace=decription_mess\n",
    "        replace['text']=decription_mess['text']+\" \"+line[:]\n",
    "        del lst[-1]\n",
    "        dictionary_copy = replace.copy()\n",
    "        lst.append(dictionary_copy)\n",
    "        continue\n",
    "    x=line.find('-')\n",
    "    y=line.find(':',x)\n",
    "    if y==(-1):\n",
    "        continue\n",
    "    z=line[x+1:y]   \n",
    "    if z not in phone_or_name:\n",
    "        phone_or_name[z]=count\n",
    "        count=count+1 \n",
    "    words=line.split()    \n",
    "    decription_mess['datetime']=words[0]+\" \"+words[1]\n",
    "    decription_mess['id']=phone_or_name[z]\n",
    "    decription_mess['text']=line[y+1:].rstrip()\n",
    "    decription_mess['created by']=z\n",
    "    dictionary_copy = decription_mess.copy()\n",
    "    lst.append(dictionary_copy)   \n",
    "    replace=decription_mess   \n",
    "first_metadata['num_of_participants']=max(phone_or_name.values())\n",
    "second_metadata=dict()\n",
    "second_metadata['messages']=lst\n",
    "second_metadata['metadata']=first_metadata\n",
    "print(second_metadata)\n",
    "\n",
    "import json\n",
    "with open(first_metadata[\"chat_name\"]+ \".txt\", 'w', encoding='utf-8') as ChatInJson_Textfile:\n",
    "     json.dump(second_metadata, ChatInJson_Textfile,  ensure_ascii=False, indent=4)\n"
   ]
  },
  {
   "cell_type": "code",
   "execution_count": null,
   "metadata": {},
   "outputs": [],
   "source": []
  }
 ],
 "metadata": {
  "kernelspec": {
   "display_name": "Python 3",
   "language": "python",
   "name": "python3"
  },
  "language_info": {
   "codemirror_mode": {
    "name": "ipython",
    "version": 3
   },
   "file_extension": ".py",
   "mimetype": "text/x-python",
   "name": "python",
   "nbconvert_exporter": "python",
   "pygments_lexer": "ipython3",
   "version": "3.8.5"
  }
 },
 "nbformat": 4,
 "nbformat_minor": 4
}
